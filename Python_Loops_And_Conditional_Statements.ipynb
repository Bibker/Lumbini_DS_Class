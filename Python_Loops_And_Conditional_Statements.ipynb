{
 "cells": [
  {
   "cell_type": "markdown",
   "id": "8a829c71",
   "metadata": {},
   "source": [
    "****Python has two different types of loop commands:****\n",
    "<ol>\n",
    "    <li>for loops</li>\n",
    "    <li>while loops</li>\n",
    "</ol>"
   ]
  },
  {
   "cell_type": "markdown",
   "id": "41c9745a",
   "metadata": {},
   "source": [
    "#### For Loops\n",
    "<li>In Python, the for loop is used to run a block of code for a certain number of times.</li>\n",
    "<li>A for loop is used for iterating over a sequence (that is either a list, a tuple, a dictionary, a set, or a string).</li>\n",
    "<li>We call this technique a <b>loop</b> because we are <b>looping</b> over each element in the list and performing an action on each element.</li> \n",
    "<li>Because we always start with <b>for</b>, we call this technique a <b>for loop.</b></li>"
   ]
  },
  {
   "cell_type": "markdown",
   "id": "b40c8af1",
   "metadata": {},
   "source": [
    "![](images/for_loop_script.png)"
   ]
  },
  {
   "cell_type": "markdown",
   "id": "c7c02bd9",
   "metadata": {},
   "source": [
    "#### Why For Loops \n",
    "<li>We can also retrieve each element in lists, and perform operation but this method will not scale well to a large dataset</li>\n",
    "<li>Let's say at first we have to repeat this process for five times. We can rely on this method since repeating the code for five times is not that difficult.</li>\n",
    "<li>But if we have to repeat the same process for 1000+ times then relying on this method is a waste of time and the programmer has to write the same syntax with very few differences 1000+ times.</li>\n",
    "<li>So, in such scenario, <b>for loops</b> can save programmer's time as well as energy. Also it is the smartest way of dealing with problems.</li>"
   ]
  },
  {
   "cell_type": "code",
   "execution_count": null,
   "id": "1a1c3efd",
   "metadata": {},
   "outputs": [],
   "source": []
  },
  {
   "cell_type": "code",
   "execution_count": null,
   "id": "103cc60a",
   "metadata": {},
   "outputs": [],
   "source": []
  },
  {
   "cell_type": "code",
   "execution_count": null,
   "id": "34081de9",
   "metadata": {},
   "outputs": [],
   "source": []
  },
  {
   "cell_type": "markdown",
   "id": "6aa50597",
   "metadata": {},
   "source": [
    "#### For Loops WIth List\n",
    "\n",
    "<li>We can iterate over the items in a list using <b>for loops.</b></li>"
   ]
  },
  {
   "cell_type": "code",
   "execution_count": null,
   "id": "f4e5d8da",
   "metadata": {},
   "outputs": [],
   "source": []
  },
  {
   "cell_type": "code",
   "execution_count": null,
   "id": "5891f90b",
   "metadata": {},
   "outputs": [],
   "source": []
  },
  {
   "cell_type": "code",
   "execution_count": null,
   "id": "c852e037",
   "metadata": {},
   "outputs": [],
   "source": []
  },
  {
   "cell_type": "code",
   "execution_count": null,
   "id": "4272656c",
   "metadata": {},
   "outputs": [],
   "source": []
  },
  {
   "cell_type": "markdown",
   "id": "6af802a9",
   "metadata": {},
   "source": [
    "#### Take the given list and create a new list which represent the square value of the items in a list\n",
    "\n",
    "num = [1,2,3,5,7,9]"
   ]
  },
  {
   "cell_type": "code",
   "execution_count": null,
   "id": "4e961415",
   "metadata": {},
   "outputs": [],
   "source": []
  },
  {
   "cell_type": "code",
   "execution_count": null,
   "id": "ab9ef0df",
   "metadata": {},
   "outputs": [],
   "source": []
  },
  {
   "cell_type": "code",
   "execution_count": null,
   "id": "cfc6665e",
   "metadata": {},
   "outputs": [],
   "source": []
  },
  {
   "cell_type": "markdown",
   "id": "ac0af50e",
   "metadata": {},
   "source": [
    "#### Python List Comprehension Techniques"
   ]
  },
  {
   "cell_type": "code",
   "execution_count": null,
   "id": "1852db83",
   "metadata": {},
   "outputs": [],
   "source": []
  },
  {
   "cell_type": "code",
   "execution_count": null,
   "id": "fec8b87e",
   "metadata": {},
   "outputs": [],
   "source": []
  },
  {
   "cell_type": "code",
   "execution_count": null,
   "id": "06c1bf6b",
   "metadata": {},
   "outputs": [],
   "source": []
  },
  {
   "cell_type": "markdown",
   "id": "77b9d344",
   "metadata": {},
   "source": [
    "#### For Loops In lists of lists\n",
    "<li>We can aslo use for loops for iterating over the items inside a list of list.</li>"
   ]
  },
  {
   "cell_type": "code",
   "execution_count": null,
   "id": "f95c6fc2",
   "metadata": {},
   "outputs": [],
   "source": []
  },
  {
   "cell_type": "code",
   "execution_count": null,
   "id": "57d8261e",
   "metadata": {},
   "outputs": [],
   "source": []
  },
  {
   "cell_type": "code",
   "execution_count": null,
   "id": "a3533545",
   "metadata": {},
   "outputs": [],
   "source": [
    "student_1 = ['Ram', 'male',23, 'B.C.A', 'Seventh Semester', 78.2]\n",
    "student_2 = ['Shyam','male',21,'B.C.A', 'Fifth Semester',67.5]\n",
    "student_3 = ['Abhishek','male',22, 'B.Sc.Cs.It', 'Seventh Semester',82.4]\n",
    "student_4 = ['Mahima','female',20, 'B.Sc.Cs.It', 'Fifth Semester',87.3]\n",
    "student_5 = ['Sanjana','female',22, 'B.Sc.Cs.It', 'Seventh Semester',69.8]\n",
    "student_6 = ['Prabhat', 'male',23, 'B.Sc.Cs.It', 'Seventh Semester', 80.2]\n",
    "student_7 = ['Ashmita','female',21,'B.Sc.Cs.It', 'Fifth Semester',81.5]\n",
    "student_8 = ['Shanti','female',22, 'B.Sc.Cs.It', 'Fifth Semester',72.4]\n",
    "student_9 = ['Himal','male',20, 'B.C,A', 'Fifth Semester',78.3]\n",
    "student_10 = ['Rabina','female',22, 'B.I.M', 'Seventh Semester',75.8]\n",
    "student_11 = ['Kamal', 'male',23, 'B.I.M', 'Fifth Semester', 80.2]\n",
    "student_12= ['Bhawana','female',21,'B.I.M', 'Third Semester',81.5]\n",
    "student_13 = ['Sunil','male',22, 'B.I.M', 'Fourth Semester',72.4]\n",
    "student_14= ['Nirisha','female',20, 'B.I.M', 'Fourth Semester',78.3]\n",
    "student_15 = ['Sushmita','female',22, 'B.I.M', 'Third Semester',75.8]\n",
    "\n",
    "student_datasets = [student_1, student_2, student_3, student_4, student_5,\n",
    "                    student_6, student_7, student_8, student_9, student_10,\n",
    "                   student_11, student_12, student_13, student_14,student_15]\n",
    "\n"
   ]
  },
  {
   "cell_type": "markdown",
   "id": "c9f2f499",
   "metadata": {},
   "source": [
    "#### Question \n",
    "\n",
    "**From the <b>student_datasets</b>, calculate the average percentage scored by these students.**"
   ]
  },
  {
   "cell_type": "code",
   "execution_count": null,
   "id": "9933f378",
   "metadata": {},
   "outputs": [],
   "source": []
  },
  {
   "cell_type": "code",
   "execution_count": null,
   "id": "a67f3523",
   "metadata": {},
   "outputs": [],
   "source": []
  },
  {
   "cell_type": "markdown",
   "id": "b3797cb3",
   "metadata": {},
   "source": [
    "**From the <b>student_datasets</b>, calculate the average age scored by these students.**"
   ]
  },
  {
   "cell_type": "code",
   "execution_count": null,
   "id": "60ec5833",
   "metadata": {},
   "outputs": [],
   "source": []
  },
  {
   "cell_type": "code",
   "execution_count": null,
   "id": "8df2065e",
   "metadata": {},
   "outputs": [],
   "source": []
  },
  {
   "cell_type": "markdown",
   "id": "82bd1e6a",
   "metadata": {},
   "source": [
    "#### Break Statements In For Loop\n",
    "<li>With the break statement we can stop the for loop even if the condition is true.</li>"
   ]
  },
  {
   "cell_type": "markdown",
   "id": "7078b81f",
   "metadata": {},
   "source": [
    "**From the <b>student_datasets</b>, calculate the total score obtained by five five students.**"
   ]
  },
  {
   "cell_type": "code",
   "execution_count": null,
   "id": "734ad11b",
   "metadata": {},
   "outputs": [],
   "source": []
  },
  {
   "cell_type": "code",
   "execution_count": null,
   "id": "7d7e1320",
   "metadata": {},
   "outputs": [],
   "source": []
  },
  {
   "cell_type": "code",
   "execution_count": null,
   "id": "2a46db41",
   "metadata": {},
   "outputs": [],
   "source": []
  },
  {
   "cell_type": "markdown",
   "id": "d34a5f44",
   "metadata": {},
   "source": [
    "#### Range\n",
    "<li>The Python range() function returns a sequence of numbers, in a given range.</li>\n",
    "<li>The most common use of it is to iterate sequence on a sequence of numbers using Python loops.</li>\n",
    "<li>It accepts three parameters. They are :</li>\n",
    "<ol>\n",
    "    <li><b>start:</b>Optional. An integer number specifying at which position to start. Default is 0</li>\n",
    "    <li><b>stop:</b>Required. An integer number specifying at which position to stop (not included).</li>\n",
    "    <li><b>step:</b>Optional. An integer number specifying the incrementation. Defaul</li>\n",
    "</ol>"
   ]
  },
  {
   "cell_type": "code",
   "execution_count": null,
   "id": "95feec0b",
   "metadata": {},
   "outputs": [],
   "source": []
  },
  {
   "cell_type": "code",
   "execution_count": null,
   "id": "58128f88",
   "metadata": {},
   "outputs": [],
   "source": []
  },
  {
   "cell_type": "code",
   "execution_count": null,
   "id": "06c043bf",
   "metadata": {},
   "outputs": [],
   "source": []
  },
  {
   "cell_type": "code",
   "execution_count": null,
   "id": "bb078b0a",
   "metadata": {},
   "outputs": [],
   "source": []
  },
  {
   "cell_type": "code",
   "execution_count": null,
   "id": "8db0daa1",
   "metadata": {},
   "outputs": [],
   "source": []
  },
  {
   "cell_type": "markdown",
   "id": "1009f8d9",
   "metadata": {},
   "source": [
    "#### Use range to populate the square of even numbers upto 20 in a new list."
   ]
  },
  {
   "cell_type": "code",
   "execution_count": null,
   "id": "48a612e3",
   "metadata": {},
   "outputs": [],
   "source": []
  },
  {
   "cell_type": "code",
   "execution_count": null,
   "id": "59cb6aed",
   "metadata": {},
   "outputs": [],
   "source": []
  },
  {
   "cell_type": "code",
   "execution_count": null,
   "id": "86c5f9d0",
   "metadata": {},
   "outputs": [],
   "source": []
  },
  {
   "cell_type": "markdown",
   "id": "497aed05",
   "metadata": {},
   "source": [
    "#### For Loops With Dictionary\n",
    "\n",
    "<li>We can iterate over dictionary items using for loop in dict.items()</li>\n",
    "<li>The dictionary keys can be iterated using dict.keys()</li>\n",
    "<li>Similarly, the dictionary values can also be iterated using dict.values().</li>"
   ]
  },
  {
   "cell_type": "code",
   "execution_count": null,
   "id": "052e366f",
   "metadata": {},
   "outputs": [],
   "source": []
  },
  {
   "cell_type": "code",
   "execution_count": null,
   "id": "7d44670b",
   "metadata": {},
   "outputs": [],
   "source": []
  },
  {
   "cell_type": "code",
   "execution_count": null,
   "id": "ca945464",
   "metadata": {},
   "outputs": [],
   "source": []
  },
  {
   "cell_type": "code",
   "execution_count": null,
   "id": "a9a8dde9",
   "metadata": {},
   "outputs": [],
   "source": []
  },
  {
   "cell_type": "code",
   "execution_count": null,
   "id": "1263af71",
   "metadata": {},
   "outputs": [],
   "source": []
  },
  {
   "cell_type": "code",
   "execution_count": null,
   "id": "5923a549",
   "metadata": {},
   "outputs": [],
   "source": []
  },
  {
   "cell_type": "markdown",
   "id": "71610240",
   "metadata": {},
   "source": [
    "#### For Loops WIth Set\n",
    "<li>We can also use for loops to iterate over the elements inside a set.</li>\n",
    "<li>We can add group of new elements in a set by using set.add() method inside a for loop.</li>"
   ]
  },
  {
   "cell_type": "code",
   "execution_count": null,
   "id": "2e2519cf",
   "metadata": {},
   "outputs": [],
   "source": []
  },
  {
   "cell_type": "code",
   "execution_count": null,
   "id": "0f028f68",
   "metadata": {},
   "outputs": [],
   "source": []
  },
  {
   "cell_type": "code",
   "execution_count": null,
   "id": "93cc3b74",
   "metadata": {},
   "outputs": [],
   "source": []
  },
  {
   "cell_type": "code",
   "execution_count": null,
   "id": "2c32c689",
   "metadata": {},
   "outputs": [],
   "source": []
  },
  {
   "cell_type": "code",
   "execution_count": null,
   "id": "910cf1ae",
   "metadata": {},
   "outputs": [],
   "source": []
  },
  {
   "cell_type": "markdown",
   "id": "2c774c9c",
   "metadata": {},
   "source": [
    "####  For Loops With A Tuple\n",
    "<li>We can also iterate over the elements inside a tuple using for loops.</li>\n",
    "<li>We can also concatenate group of elements inside a tuple using for loops.</li>"
   ]
  },
  {
   "cell_type": "code",
   "execution_count": null,
   "id": "743b619f",
   "metadata": {},
   "outputs": [],
   "source": []
  },
  {
   "cell_type": "code",
   "execution_count": null,
   "id": "949a058b",
   "metadata": {},
   "outputs": [],
   "source": []
  },
  {
   "cell_type": "code",
   "execution_count": null,
   "id": "8e912119",
   "metadata": {},
   "outputs": [],
   "source": []
  },
  {
   "cell_type": "code",
   "execution_count": null,
   "id": "2976c7b2",
   "metadata": {},
   "outputs": [],
   "source": []
  },
  {
   "cell_type": "code",
   "execution_count": null,
   "id": "400c6f20",
   "metadata": {},
   "outputs": [],
   "source": []
  },
  {
   "cell_type": "code",
   "execution_count": null,
   "id": "1ac70535",
   "metadata": {},
   "outputs": [],
   "source": []
  },
  {
   "cell_type": "markdown",
   "id": "2638c85d",
   "metadata": {},
   "source": [
    "#### While Loop\n",
    "<li>With the while loop we can execute a set of statements as long as a condition is true.</li>\n",
    "<li>The while loop statement stops running once the condition is false.</li>\n",
    "<li>With the <b>break</b> statement we can stop the loop even if the while condition is true.</li>"
   ]
  },
  {
   "cell_type": "markdown",
   "id": "f784bd01",
   "metadata": {},
   "source": [
    "#### While loop Syntax\n",
    "\n",
    "<code>\n",
    "while (condition):\n",
    "    //statement\n",
    "</code>"
   ]
  },
  {
   "cell_type": "code",
   "execution_count": null,
   "id": "03d894ee",
   "metadata": {},
   "outputs": [],
   "source": []
  },
  {
   "cell_type": "code",
   "execution_count": null,
   "id": "eccbf8bd",
   "metadata": {},
   "outputs": [],
   "source": []
  },
  {
   "cell_type": "code",
   "execution_count": null,
   "id": "cc94689c",
   "metadata": {},
   "outputs": [],
   "source": []
  },
  {
   "cell_type": "markdown",
   "id": "9ee94640",
   "metadata": {},
   "source": [
    "#### Python Do-while Loop\n",
    "<li>Python doesn't have do-while loop. But we can create a program like this.</li>\n",
    "<li>The do while loop is used to check condition after executing the statement. It is like while loop but it is executed at least once.</li>\n",
    "<li>The <b>do while loop</b> can be created by using while, if and break statements in python.</li>\n",
    "\n"
   ]
  },
  {
   "cell_type": "markdown",
   "id": "a3a8fd45",
   "metadata": {},
   "source": [
    "#### Do-while loop Syntax\n",
    "\n",
    "<code>\n",
    "do {  \n",
    "     //statement  \n",
    "} while (condition);  \n",
    "</code>"
   ]
  },
  {
   "cell_type": "code",
   "execution_count": null,
   "id": "8bdf7c9a",
   "metadata": {},
   "outputs": [],
   "source": []
  },
  {
   "cell_type": "code",
   "execution_count": null,
   "id": "f0e944f1",
   "metadata": {},
   "outputs": [],
   "source": []
  },
  {
   "cell_type": "code",
   "execution_count": null,
   "id": "e724a46e",
   "metadata": {},
   "outputs": [],
   "source": []
  },
  {
   "cell_type": "markdown",
   "id": "6778963b",
   "metadata": {},
   "source": [
    "#### Booleans\n",
    "\n",
    "<li>When we use the == operator to determine if two values are equal, the output will always be True or False.</li>\n",
    "<li>Booleans are binary output variables if condition satisfies, it will give <b>True</b> and if condition is not satisfied it gives <b>False.</b></li>"
   ]
  },
  {
   "cell_type": "code",
   "execution_count": null,
   "id": "c76606f6",
   "metadata": {},
   "outputs": [],
   "source": []
  },
  {
   "cell_type": "code",
   "execution_count": null,
   "id": "992f96ff",
   "metadata": {},
   "outputs": [],
   "source": []
  },
  {
   "cell_type": "code",
   "execution_count": null,
   "id": "67e48ea9",
   "metadata": {},
   "outputs": [],
   "source": []
  },
  {
   "cell_type": "code",
   "execution_count": null,
   "id": "42c0cbf7",
   "metadata": {},
   "outputs": [],
   "source": []
  },
  {
   "cell_type": "code",
   "execution_count": null,
   "id": "099d673d",
   "metadata": {},
   "outputs": [],
   "source": []
  },
  {
   "cell_type": "markdown",
   "id": "13f84dbe",
   "metadata": {},
   "source": [
    "#### Python Conditions and If statements\n",
    "\n",
    "<li>Python supports the usual logical conditions from mathematics:</li>\n",
    "<ol>\n",
    "    <li>Equals: a == b</li>\n",
    "    <li>Not Equals: a != b</li>\n",
    "    <li>Less than: a < b</li>\n",
    "    <li>Less than or equal to: a <= b</li>\n",
    "    <li>Greater than: a > b</li>\n",
    "    <li>Greater than or equal to: a >= b</li>\n",
    "    <li>These conditions can be used in several ways, most commonly in \"if statements\" and loops.</li>\n",
    "</ol>\n",
    "\n",
    "<li>An \"if statement\" is written by using the if keyword.</li>"
   ]
  },
  {
   "cell_type": "code",
   "execution_count": null,
   "id": "fbea7e27",
   "metadata": {},
   "outputs": [],
   "source": []
  },
  {
   "cell_type": "code",
   "execution_count": null,
   "id": "1e98f3e5",
   "metadata": {},
   "outputs": [],
   "source": []
  },
  {
   "cell_type": "code",
   "execution_count": null,
   "id": "cfa14edd",
   "metadata": {},
   "outputs": [],
   "source": []
  },
  {
   "cell_type": "code",
   "execution_count": null,
   "id": "fa505b80",
   "metadata": {},
   "outputs": [],
   "source": []
  },
  {
   "cell_type": "code",
   "execution_count": null,
   "id": "077c1813",
   "metadata": {},
   "outputs": [],
   "source": []
  },
  {
   "cell_type": "markdown",
   "id": "546a1c2d",
   "metadata": {},
   "source": [
    "#### Use Of if Statements\n",
    "\n",
    "<li>We use if statement incase we only need to valid whether the statement is true and have to perform operations only when it's true.</li>\n",
    "\n",
    "**Syntax of if statements**\n",
    "\n",
    "<code>if boolean_expression:\n",
    "    statement(s)\n",
    "</code>"
   ]
  },
  {
   "cell_type": "code",
   "execution_count": null,
   "id": "09d08735",
   "metadata": {},
   "outputs": [],
   "source": []
  },
  {
   "cell_type": "code",
   "execution_count": null,
   "id": "92544001",
   "metadata": {},
   "outputs": [],
   "source": []
  },
  {
   "cell_type": "code",
   "execution_count": null,
   "id": "801a2a71",
   "metadata": {},
   "outputs": [],
   "source": []
  },
  {
   "cell_type": "code",
   "execution_count": 5,
   "id": "375c5dfd",
   "metadata": {},
   "outputs": [],
   "source": [
    "student_1 = ['Ram', 'male',23, 'B.C.A', 'Seventh Semester', 78.2]\n",
    "student_2 = ['Shyam','male',21,'B.C.A', 'Fifth Semester',67.5]\n",
    "student_3 = ['Abhishek','male',22, 'B.Sc.Cs.It', 'Seventh Semester',82.4]\n",
    "student_4 = ['Mahima','female',20, 'B.Sc.Cs.It', 'Fifth Semester',87.3]\n",
    "student_5 = ['Sanjana','female',22, 'B.Sc.Cs.It', 'Seventh Semester',69.8]\n",
    "student_6 = ['Prabhat', 'male',23, 'B.Sc.Cs.It', 'Seventh Semester', 80.2]\n",
    "student_7 = ['Ashmita','female',21,'B.Sc.Cs.It', 'Fifth Semester',81.5]\n",
    "student_8 = ['Shanti','female',22, 'B.Sc.Cs.It', 'Fifth Semester',72.4]\n",
    "student_9 = ['Himal','male',20, 'B.C,A', 'Fifth Semester',78.3]\n",
    "student_10 = ['Rabina','female',22, 'B.I.M', 'Seventh Semester',75.8]\n",
    "student_11 = ['Kamal', 'male',23, 'B.I.M', 'Fifth Semester', 80.2]\n",
    "student_12= ['Bhawana','female',21,'B.I.M', 'Third Semester',81.5]\n",
    "student_13 = ['Sunil','male',22, 'B.I.M', 'Fourth Semester',72.4]\n",
    "student_14= ['Nirisha','female',20, 'B.I.M', 'Fourth Semester',78.3]\n",
    "student_15 = ['Sushmita','female',22, 'B.I.M', 'Third Semester',75.8]\n",
    "\n",
    "student_datasets = [student_1, student_2, student_3, student_4, student_5,\n",
    "                    student_6, student_7, student_8, student_9, student_10,\n",
    "                   student_11, student_12, student_13, student_14,student_15]\n",
    "\n"
   ]
  },
  {
   "cell_type": "markdown",
   "id": "c09242ea",
   "metadata": {},
   "source": [
    "#### Count the number of male and female students from the given dataset"
   ]
  },
  {
   "cell_type": "code",
   "execution_count": null,
   "id": "f852015e",
   "metadata": {},
   "outputs": [],
   "source": []
  },
  {
   "cell_type": "code",
   "execution_count": null,
   "id": "becd59ac",
   "metadata": {},
   "outputs": [],
   "source": []
  },
  {
   "cell_type": "markdown",
   "id": "16abcc2f",
   "metadata": {},
   "source": [
    "#### Question\n",
    "<li>Count the number of B.Sc.Cs.It Students who are reading in fifth semester.</li>\n",
    "<li>Also store those group of students in a separate list of list.</li>"
   ]
  },
  {
   "cell_type": "code",
   "execution_count": null,
   "id": "a88b64ac",
   "metadata": {},
   "outputs": [],
   "source": []
  },
  {
   "cell_type": "code",
   "execution_count": null,
   "id": "b0dbd33a",
   "metadata": {},
   "outputs": [],
   "source": []
  },
  {
   "cell_type": "markdown",
   "id": "777edbf1",
   "metadata": {},
   "source": [
    "#### Find the number of students whose age is greater than or equals to 22."
   ]
  },
  {
   "cell_type": "code",
   "execution_count": null,
   "id": "4f0b9237",
   "metadata": {},
   "outputs": [],
   "source": []
  },
  {
   "cell_type": "code",
   "execution_count": null,
   "id": "5bfd32ce",
   "metadata": {},
   "outputs": [],
   "source": []
  },
  {
   "cell_type": "markdown",
   "id": "a6009d84",
   "metadata": {},
   "source": [
    "#### Find the number of students whose score is less than 75."
   ]
  },
  {
   "cell_type": "code",
   "execution_count": null,
   "id": "0b67cc39",
   "metadata": {},
   "outputs": [],
   "source": []
  },
  {
   "cell_type": "code",
   "execution_count": null,
   "id": "e5eebbbf",
   "metadata": {},
   "outputs": [],
   "source": []
  },
  {
   "cell_type": "code",
   "execution_count": null,
   "id": "ab8a777c",
   "metadata": {},
   "outputs": [],
   "source": []
  },
  {
   "cell_type": "markdown",
   "id": "cd8fe4a7",
   "metadata": {},
   "source": [
    "#### Question\n",
    "**Correct the following code in such a way that it will only print the statement which is true.**\n",
    "\n",
    "\n",
    "<code>\n",
    "if True:\n",
    "    print(\"2 + 2 == 5\")\n",
    "    print(\"lemons are sour\")\n",
    "if True:\n",
    "    print(\"the sky is blue\")\n",
    "    print(\"5 >= 3\")  \n",
    "if True:\n",
    "    print(\"spheres have corners\")\n",
    "    print(\"7 / 5 == 2\")\n",
    "   \n",
    "</code>"
   ]
  },
  {
   "cell_type": "code",
   "execution_count": null,
   "id": "7a1fef58",
   "metadata": {},
   "outputs": [],
   "source": [
    "if True:\n",
    "    print(\"2 + 2 == 5\")\n",
    "    print(\"lemons are sour\")\n",
    "\n",
    "if True:\n",
    "    print(\"the sky is blue\")\n",
    "    print(\"5 >= 3\")\n",
    "    \n",
    "if True:\n",
    "    print(\"spheres have corners\")\n",
    "    print(\"7 / 5 == 2\")"
   ]
  },
  {
   "cell_type": "code",
   "execution_count": null,
   "id": "f0938dbf",
   "metadata": {},
   "outputs": [],
   "source": []
  },
  {
   "cell_type": "code",
   "execution_count": null,
   "id": "3cbd47a0",
   "metadata": {},
   "outputs": [],
   "source": []
  },
  {
   "cell_type": "code",
   "execution_count": null,
   "id": "7f067213",
   "metadata": {},
   "outputs": [],
   "source": []
  },
  {
   "cell_type": "markdown",
   "id": "7dd390e8",
   "metadata": {},
   "source": [
    "#### Use of if-else statements\n",
    "<li>We need to check the validity of the statements and we care about both possibile conditions then we use if-else statement.</li>\n",
    "<li>if-else statement only support binary statements or binary conditions.</li>"
   ]
  },
  {
   "cell_type": "markdown",
   "id": "1059b8c6",
   "metadata": {},
   "source": [
    "#### Syntax of if-else statements\n",
    "<code>\n",
    "if expression:\n",
    "   statement(s)\n",
    "else:\n",
    "   statement(s)\n",
    "</code>\n"
   ]
  },
  {
   "cell_type": "code",
   "execution_count": null,
   "id": "0fb62d9c",
   "metadata": {},
   "outputs": [],
   "source": []
  },
  {
   "cell_type": "code",
   "execution_count": null,
   "id": "f6fc358d",
   "metadata": {},
   "outputs": [],
   "source": []
  },
  {
   "cell_type": "code",
   "execution_count": null,
   "id": "d7f5fcc1",
   "metadata": {},
   "outputs": [],
   "source": []
  },
  {
   "cell_type": "code",
   "execution_count": null,
   "id": "6361dd90",
   "metadata": {},
   "outputs": [],
   "source": [
    "student_1 = ['Ram', 'male',23, 'B.C.A', 'Seventh Semester', 78.2]\n",
    "student_2 = ['Shyam','male',21,'B.C.A', 'Fifth Semester',67.5]\n",
    "student_3 = ['Abhishek','male',22, 'B.Sc.Cs.It', 'Seventh Semester',82.4]\n",
    "student_4 = ['Mahima','female',20, 'B.Sc.Cs.It', 'Fifth Semester',87.3]\n",
    "student_5 = ['Sanjana','female',22, 'B.Sc.Cs.It', 'Seventh Semester',69.8]\n",
    "student_6 = ['Prabhat', 'male',23, 'B.Sc.Cs.It', 'Seventh Semester', 80.2]\n",
    "student_7 = ['Ashmita','female',21,'B.Sc.Cs.It', 'Fifth Semester',81.5]\n",
    "student_8 = ['Shanti','female',22, 'B.Sc.Cs.It', 'Fifth Semester',72.4]\n",
    "student_9 = ['Himal','male',20, 'B.C,A', 'Fifth Semester',78.3]\n",
    "student_10 = ['Rabina','female',22, 'B.I.M', 'Seventh Semester',75.8]\n",
    "student_11 = ['Kamal', 'male',23, 'B.I.M', 'Fifth Semester', 80.2]\n",
    "student_12= ['Bhawana','female',21,'B.I.M', 'Third Semester',81.5]\n",
    "student_13 = ['Sunil','male',22, 'B.I.M', 'Fourth Semester',72.4]\n",
    "student_14= ['Nirisha','female',20, 'B.I.M', 'Fourth Semester',78.3]\n",
    "student_15 = ['Sushmita','female',22, 'B.I.M', 'Third Semester',75.8]\n",
    "\n",
    "student_datasets = [student_1, student_2, student_3, student_4, student_5,\n",
    "                    student_6, student_7, student_8, student_9, student_10,\n",
    "                   student_11, student_12, student_13, student_14,student_15]\n",
    "\n"
   ]
  },
  {
   "cell_type": "markdown",
   "id": "5d959757",
   "metadata": {},
   "source": [
    "#### Use if-else statement and find the count of male as well as female students"
   ]
  },
  {
   "cell_type": "code",
   "execution_count": null,
   "id": "6ca74628",
   "metadata": {},
   "outputs": [],
   "source": []
  },
  {
   "cell_type": "code",
   "execution_count": null,
   "id": "fbe567f0",
   "metadata": {},
   "outputs": [],
   "source": []
  },
  {
   "cell_type": "markdown",
   "id": "0c3fb915",
   "metadata": {},
   "source": [
    "#### Use if-else statement and find the count of students who are less than 22 and greater than or equal to 22."
   ]
  },
  {
   "cell_type": "code",
   "execution_count": null,
   "id": "2ed00c83",
   "metadata": {},
   "outputs": [],
   "source": []
  },
  {
   "cell_type": "code",
   "execution_count": null,
   "id": "39ee1010",
   "metadata": {},
   "outputs": [],
   "source": []
  },
  {
   "cell_type": "markdown",
   "id": "068e3ee3",
   "metadata": {},
   "source": [
    "#### Short-hand if-else statements\n",
    "<li>We can use if-else condition as one line statement in short-hand if-else statements.</li>\n",
    "<li>If you have only one statement to execute, one for if, and one for else, you can put it all on the same line.</li>\n"
   ]
  },
  {
   "cell_type": "code",
   "execution_count": null,
   "id": "ff6da4d1",
   "metadata": {},
   "outputs": [],
   "source": []
  },
  {
   "cell_type": "code",
   "execution_count": null,
   "id": "419b557d",
   "metadata": {},
   "outputs": [],
   "source": []
  },
  {
   "cell_type": "markdown",
   "id": "c1200e73",
   "metadata": {},
   "source": [
    "#### Use of if-elif-else Statements\n",
    "\n",
    "<li>If we have greater than two possible conditions for any given statement, then under such scenario, we use if-elif-else statements.</li>\n",
    "<li>A perfect example for using such conditional statements is <b>\"Checking whether a number is greater than, less than or equal to another given number\"</b>.</li>"
   ]
  },
  {
   "cell_type": "markdown",
   "id": "880f0800",
   "metadata": {},
   "source": [
    "#### Syntax Of If-elif-else statements\n",
    "\n",
    "<code>\n",
    "if expression1:\n",
    "   statement(s)\n",
    "elif expression2:\n",
    "   statement(s)\n",
    "elif expression3:\n",
    "   statement(s)\n",
    "else:\n",
    "   statement(s) \n",
    "</code>"
   ]
  },
  {
   "cell_type": "code",
   "execution_count": null,
   "id": "996c6eea",
   "metadata": {},
   "outputs": [],
   "source": []
  },
  {
   "cell_type": "code",
   "execution_count": null,
   "id": "b05b094f",
   "metadata": {},
   "outputs": [],
   "source": []
  },
  {
   "cell_type": "code",
   "execution_count": null,
   "id": "78992653",
   "metadata": {},
   "outputs": [],
   "source": []
  },
  {
   "cell_type": "code",
   "execution_count": null,
   "id": "448af774",
   "metadata": {},
   "outputs": [],
   "source": []
  },
  {
   "cell_type": "code",
   "execution_count": null,
   "id": "3c50a349",
   "metadata": {},
   "outputs": [],
   "source": [
    "student_1 = ['Ram', 'male',23, 'B.C.A', 'Seventh Semester', 78.2]\n",
    "student_2 = ['Sashi','male',21,'B.C.A', 'Fifth Semester',67.5]\n",
    "student_3 = ['Abhishek','male',22, 'B.Sc.Cs.It', 'Seventh Semester',82.4]\n",
    "student_4 = ['Sarishma','female',20, 'B.Sc.Cs.It', 'Fifth Semester',87.3]\n",
    "student_5 = ['Sanjana','female',22, 'B.Sc.Cs.It', 'Seventh Semester',69.8]\n",
    "student_6 = ['Prabhat', 'male',23, 'B.Sc.Cs.It', 'Seventh Semester', 80.2]\n",
    "student_7 = ['Ashmita','female',21,'B.Sc.Cs.It', 'Fifth Semester',81.5]\n",
    "student_8 = ['Shanti','female',22, 'B.Sc.Cs.It', 'Fifth Semester',72.4]\n",
    "student_9 = ['Himal','male',20, 'B.C,A', 'Fifth Semester',78.3]\n",
    "student_10 = ['Rabina','female',22, 'B.I.M', 'Seventh Semester',75.8]\n",
    "student_11 = ['Kamal', 'male',23, 'B.I.M', 'Fifth Semester', 80.2]\n",
    "student_12= ['Bhawana','female',21,'B.I.M', 'Third Semester',81.5]\n",
    "student_13 = ['Sunil','male',22, 'B.I.M', 'Fourth Semester',72.4]\n",
    "student_14= ['Nirisha','female',20, 'B.I.M', 'Fourth Semester',78.3]\n",
    "student_15 = ['Sushmita','female',22, 'B.I.M', 'Third Semester',75.8]\n",
    "\n",
    "\n",
    "student_datasets = [student_1, student_2, student_3, student_4, student_5,\n",
    "                    student_6, student_7, student_8, student_9, student_10,\n",
    "                   student_11, student_12, student_13, student_14,student_15,\n",
    "                   student_16, student_17, student_18, student_19, student_20,\n",
    "                    student_21, student_22, student_23, student_24, student_25,\n",
    "                   student_26, student_27, student_28, student_29, student_30]\n",
    "\n"
   ]
  },
  {
   "cell_type": "code",
   "execution_count": null,
   "id": "c4098d98",
   "metadata": {},
   "outputs": [],
   "source": []
  },
  {
   "cell_type": "code",
   "execution_count": null,
   "id": "bed1e333",
   "metadata": {},
   "outputs": [],
   "source": []
  },
  {
   "cell_type": "code",
   "execution_count": null,
   "id": "806b2d19",
   "metadata": {},
   "outputs": [],
   "source": []
  },
  {
   "cell_type": "markdown",
   "id": "831d9ca8",
   "metadata": {},
   "source": [
    "#### Find the number of counts for each semester student."
   ]
  },
  {
   "cell_type": "code",
   "execution_count": null,
   "id": "24a3bfd6",
   "metadata": {},
   "outputs": [],
   "source": []
  },
  {
   "cell_type": "code",
   "execution_count": null,
   "id": "3f1442ad",
   "metadata": {},
   "outputs": [],
   "source": []
  },
  {
   "cell_type": "code",
   "execution_count": null,
   "id": "846bc510",
   "metadata": {},
   "outputs": [],
   "source": []
  },
  {
   "cell_type": "markdown",
   "id": "46b50737",
   "metadata": {},
   "source": [
    "#### Dictionaries & Frequency Tables\n",
    "\n",
    "<li>In this lesson on dictionaries and frequency tables, we'll learn how to check for dictionary membership, update dictionary values, and count values using dictionaries.</li>\n",
    "\n",
    "**Checking membership in a dictionary**\n",
    "\n"
   ]
  },
  {
   "cell_type": "code",
   "execution_count": 20,
   "id": "f869fe59",
   "metadata": {},
   "outputs": [],
   "source": [
    "student = {\"name\": \"manisha\", \"age\": 23, \"gender\": \"female\", \"semester\": \"Seventh\"}"
   ]
  },
  {
   "cell_type": "code",
   "execution_count": null,
   "id": "eecd56bb",
   "metadata": {},
   "outputs": [],
   "source": []
  },
  {
   "cell_type": "code",
   "execution_count": null,
   "id": "6e2b4e4a",
   "metadata": {},
   "outputs": [],
   "source": []
  },
  {
   "cell_type": "code",
   "execution_count": null,
   "id": "5a5b5320",
   "metadata": {},
   "outputs": [],
   "source": []
  },
  {
   "cell_type": "code",
   "execution_count": null,
   "id": "c26a3d07",
   "metadata": {},
   "outputs": [],
   "source": []
  },
  {
   "cell_type": "code",
   "execution_count": null,
   "id": "206d510a",
   "metadata": {},
   "outputs": [],
   "source": []
  },
  {
   "cell_type": "markdown",
   "id": "d5ae5492",
   "metadata": {},
   "source": [
    "#### Question:\n",
    "\n",
    "**Using the in operator, check whether the following values exist as dictionary keys in the fruits_dict dictionary:**\n",
    "\n",
    "<b>fruits_dict = {\"apple\": 300, \"banana\":120, \"orange\":100, \"dragon fruit\": 400}</b>\n",
    "\n",
    "<li>The string 'banana'- Assign the output of the expression to a variable named is_in_dictionary_1.</li>\n",
    "<li>The integer 400- Assign the output of the expression to a variable named is_in_dictionary_2.</li>\n",
    "<li>Combine the output of an expression containing in with an if statement. If the string 'apple' exists as dictionary key in fruits_dict, then complete the following:</li>\n",
    "<li>Assign the string \"It exists\" to a variable named result.</li>\n",
    "<li>Print the result variable.</li>"
   ]
  },
  {
   "cell_type": "code",
   "execution_count": null,
   "id": "daaf5d90",
   "metadata": {},
   "outputs": [],
   "source": []
  },
  {
   "cell_type": "code",
   "execution_count": null,
   "id": "552158bc",
   "metadata": {},
   "outputs": [],
   "source": []
  },
  {
   "cell_type": "code",
   "execution_count": null,
   "id": "ee26c82a",
   "metadata": {},
   "outputs": [],
   "source": []
  },
  {
   "cell_type": "code",
   "execution_count": null,
   "id": "e4f2e9f2",
   "metadata": {},
   "outputs": [],
   "source": []
  },
  {
   "cell_type": "code",
   "execution_count": null,
   "id": "90059e08",
   "metadata": {},
   "outputs": [],
   "source": []
  },
  {
   "cell_type": "markdown",
   "id": "ec566367",
   "metadata": {},
   "source": [
    "#### Updating Dictionary Values\n",
    "<li>We can update the items of an dictionary by using their keys.</li>\n",
    "<li>We also have dict.update() method to update a particular key:value pair in a dictionary.</li>"
   ]
  },
  {
   "cell_type": "code",
   "execution_count": null,
   "id": "9d4395d5",
   "metadata": {},
   "outputs": [],
   "source": []
  },
  {
   "cell_type": "code",
   "execution_count": null,
   "id": "aae37fb7",
   "metadata": {},
   "outputs": [],
   "source": []
  },
  {
   "cell_type": "code",
   "execution_count": null,
   "id": "7264fa93",
   "metadata": {},
   "outputs": [],
   "source": []
  },
  {
   "cell_type": "code",
   "execution_count": null,
   "id": "f857fdbc",
   "metadata": {},
   "outputs": [],
   "source": []
  },
  {
   "cell_type": "markdown",
   "id": "7a110ae1",
   "metadata": {},
   "source": [
    "#### Question\n",
    "**The content_ratings dictionary is corrupt and needs to be fixed. The corrupt version of content_ratings is provided in the code editor.**\n",
    "<code>\n",
    "content_ratings = {'4+': 622, '12+': '1155', '9+': 987, '17+': 4433}\n",
    "</code>\n",
    "<ol>\n",
    "<li>Swap the values stored in the 4+ and 17+ keys.</li>\n",
    "<li>Assign the value stored in 4+ to a temporary variable called temp.</li>\n",
    "<li>Assign the value stored in 17+ to 4+.</li>\n",
    "<li>Assign the value stored in the temporary variable to 17+.</li>\n",
    "<li>Convert the value stored in 12+ into an integer.</li>\n",
    "<li>Print the content_ratings dictionary.</li>\n",
    "</ol>"
   ]
  },
  {
   "cell_type": "code",
   "execution_count": null,
   "id": "14834928",
   "metadata": {},
   "outputs": [],
   "source": [
    "content_ratings = {\"4+\": 622, \"12+\": '1155', \"9+\": 987, \"17+\" : 4433}"
   ]
  },
  {
   "cell_type": "code",
   "execution_count": null,
   "id": "85a2cb2f",
   "metadata": {},
   "outputs": [],
   "source": []
  },
  {
   "cell_type": "code",
   "execution_count": null,
   "id": "7502ef71",
   "metadata": {},
   "outputs": [],
   "source": []
  },
  {
   "cell_type": "code",
   "execution_count": null,
   "id": "b8a2583e",
   "metadata": {},
   "outputs": [],
   "source": []
  },
  {
   "cell_type": "markdown",
   "id": "10ce335a",
   "metadata": {},
   "source": [
    "#### Counting In A Dictionary\n",
    "<li>We can count the number of repetitions of a particular value in list by using a dictionary.</li>"
   ]
  },
  {
   "cell_type": "code",
   "execution_count": null,
   "id": "71d26dc1",
   "metadata": {},
   "outputs": [],
   "source": [
    "list1 = [1,2,3,3,2,1,2,1,3,2,1,2,3]"
   ]
  },
  {
   "cell_type": "code",
   "execution_count": null,
   "id": "ce31e3ec",
   "metadata": {},
   "outputs": [],
   "source": []
  },
  {
   "cell_type": "code",
   "execution_count": null,
   "id": "b0d73c17",
   "metadata": {},
   "outputs": [],
   "source": []
  },
  {
   "cell_type": "code",
   "execution_count": null,
   "id": "538c5266",
   "metadata": {},
   "outputs": [],
   "source": []
  },
  {
   "cell_type": "code",
   "execution_count": null,
   "id": "7b496c4b",
   "metadata": {},
   "outputs": [],
   "source": []
  },
  {
   "cell_type": "markdown",
   "id": "4b37ab78",
   "metadata": {},
   "source": [
    "#### Question\n",
    "\n",
    "**From the given list, count the number of times each rating is repeated.(Frequency Table)**"
   ]
  },
  {
   "cell_type": "code",
   "execution_count": null,
   "id": "20bfb5aa",
   "metadata": {},
   "outputs": [],
   "source": [
    "ratings = ['4+', '9+', '12+', '4+', '17+', '4+', '9+', '4+', '12+', '17+', '9+',\n",
    "           '4+', '12+', '9+', '12+', '4+', '17+', '4+', '12+', '12+', '17+',\n",
    "           '9+', '9+', '4+', '4+', '9+', '12+', '17+', '12+', '17+']"
   ]
  },
  {
   "cell_type": "code",
   "execution_count": null,
   "id": "87439d5b",
   "metadata": {},
   "outputs": [],
   "source": []
  },
  {
   "cell_type": "code",
   "execution_count": null,
   "id": "feaa5bb3",
   "metadata": {},
   "outputs": [],
   "source": []
  },
  {
   "cell_type": "code",
   "execution_count": null,
   "id": "90b1b9cb",
   "metadata": {},
   "outputs": [],
   "source": []
  },
  {
   "cell_type": "code",
   "execution_count": null,
   "id": "8d46363f",
   "metadata": {},
   "outputs": [],
   "source": []
  },
  {
   "cell_type": "markdown",
   "id": "fcd14cdc",
   "metadata": {},
   "source": [
    "<li>We also call the number of times a unique value occurs a frequency. For this reason, we call tables like the one below frequency tables.</li>\n",
    "\n",
    "![](images/frequency_table.png)\n",
    "\n",
    "<li>4+ occurs 9 times, so it has a frequency of 9. 12+ has a frequency of 8. 9+ has a frequency of 7. 17+ has the lowest frequency: 6.</li>\n"
   ]
  },
  {
   "cell_type": "markdown",
   "id": "703b0ecb",
   "metadata": {},
   "source": [
    "#### Question:\n",
    "\n",
    "**From the given list, find out the frequency table for the following:**\n",
    "\n",
    "<ol>\n",
    "    <li>Frequency count table for gender.</li>\n",
    "    <li>Frequency count table for age.</li>\n",
    "    <li>Frequency count table for faculty.</li>\n",
    "    <li>Frequency count table for semester level.</li>\n",
    "</ol>"
   ]
  },
  {
   "cell_type": "code",
   "execution_count": null,
   "id": "5fd4a91e",
   "metadata": {},
   "outputs": [],
   "source": [
    "student_1 = ['Ram', 'male',23, 'B.C.A', 'Seventh Semester', 78.2]\n",
    "student_2 = ['Shyam','male',21,'B.C.A', 'Fifth Semester',67.5]\n",
    "student_3 = ['Abhishek','male',22, 'B.Sc.Cs.It', 'Seventh Semester',82.4]\n",
    "student_4 = ['Mahima','female',20, 'B.Sc.Cs.It', 'Fifth Semester',87.3]\n",
    "student_5 = ['Sanjana','female',22, 'B.Sc.Cs.It', 'Seventh Semester',69.8]\n",
    "student_6 = ['Prabhat', 'male',23, 'B.Sc.Cs.It', 'Seventh Semester', 80.2]\n",
    "student_7 = ['Ashmita','female',21,'B.Sc.Cs.It', 'Fifth Semester',81.5]\n",
    "student_8 = ['Shanti','female',22, 'B.Sc.Cs.It', 'Fifth Semester',72.4]\n",
    "student_9 = ['Himal','male',20, 'B.C,A', 'Fifth Semester',78.3]\n",
    "student_10 = ['Rabina','female',22, 'B.I.M', 'Seventh Semester',75.8]\n",
    "student_11 = ['Kamal', 'male',23, 'B.I.M', 'Fifth Semester', 80.2]\n",
    "student_12= ['Bhawana','female',21,'B.I.M', 'Third Semester',81.5]\n",
    "student_13 = ['Sunil','male',22, 'B.I.M', 'Fourth Semester',72.4]\n",
    "student_14= ['Nirisha','female',20, 'B.I.M', 'Fourth Semester',78.3]\n",
    "student_15 = ['Sushmita','female',22, 'B.I.M', 'Third Semester',75.8]\n",
    "student_16 = ['Alisha', 'female',20, 'B.A.L.L.B', 'Second Semester', 70.2]\n",
    "student_17 = ['Dipen','male',23,'B.C.A', 'Fifth Semester',67.5]\n",
    "student_18 = ['Purnima','female',23, 'B.A.L.L.B', 'Seventh Semester',81.4]\n",
    "student_19 = ['Aastha','female',24, 'B.Sc.Cs.It', 'Fifth Semester',83.3]\n",
    "student_20 = ['Pramila','female',24, 'B.Sc.Cs.It', 'Seventh Semester',79.8]\n",
    "student_21 = ['Pawan', 'male',24, 'B.Sc.Cs.It', 'Third Semester', 70.2]\n",
    "student_22 = ['Prakriti','female',22,'B.A.L.L.B', 'Fifth Semester',69.5]\n",
    "student_23 = ['Nabina','female',23, 'B.Sc.Cs.It', 'Second Semester',77.4]\n",
    "student_24 = ['Siddhant','male',23, 'B.C,A', 'Fifth Semester',78.3]\n",
    "student_25 = ['Goma','female',25, 'B.A.L.L.B', 'Seventh Semester',72.8]\n",
    "student_26 = ['Rijan', 'male',23, 'B.I.M', 'Fifth Semester', 81.2]\n",
    "student_27 = ['Rihans','male',21,'B.C.A', 'Third Semester',86.5]\n",
    "student_28 = ['Kabya','female',22, 'B.I.M', 'Second Semester',78.4]\n",
    "student_29 = ['Abhi','male',20, 'B.I.M', 'Fourth Semester',71.3]\n",
    "student_30 = ['Seema','female',25, 'B.I.M', 'Fifth Semester',69.8]\n",
    "\n",
    "student_datasets = [student_1, student_2, student_3, student_4, student_5,\n",
    "                    student_6, student_7, student_8, student_9, student_10,\n",
    "                   student_11, student_12, student_13, student_14,student_15,\n",
    "                   student_16, student_17, student_18, student_19, student_20,\n",
    "                    student_21, student_22, student_23, student_24, student_25,\n",
    "                   student_26, student_27, student_28, student_29, student_30]\n",
    "\n"
   ]
  },
  {
   "cell_type": "code",
   "execution_count": null,
   "id": "042e6562",
   "metadata": {},
   "outputs": [],
   "source": []
  },
  {
   "cell_type": "code",
   "execution_count": null,
   "id": "fde074ec",
   "metadata": {},
   "outputs": [],
   "source": []
  },
  {
   "cell_type": "code",
   "execution_count": null,
   "id": "63700d21",
   "metadata": {},
   "outputs": [],
   "source": []
  },
  {
   "cell_type": "code",
   "execution_count": null,
   "id": "d9a573f5",
   "metadata": {},
   "outputs": [],
   "source": []
  },
  {
   "cell_type": "code",
   "execution_count": null,
   "id": "6ce7ef39",
   "metadata": {},
   "outputs": [],
   "source": []
  }
 ],
 "metadata": {
  "kernelspec": {
   "display_name": "Python 3 (ipykernel)",
   "language": "python",
   "name": "python3"
  },
  "language_info": {
   "codemirror_mode": {
    "name": "ipython",
    "version": 3
   },
   "file_extension": ".py",
   "mimetype": "text/x-python",
   "name": "python",
   "nbconvert_exporter": "python",
   "pygments_lexer": "ipython3",
   "version": "3.8.0"
  }
 },
 "nbformat": 4,
 "nbformat_minor": 5
}
