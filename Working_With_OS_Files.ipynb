{
 "cells": [
  {
   "cell_type": "markdown",
   "id": "ef49a80c",
   "metadata": {},
   "source": [
    "#### Working with OS\n",
    "\n",
    "<li>Python OS module is a collection of functions that allows a developer to interact with the Operating System using Python Language.</li>\n",
    "<li>This module works with every Operating System and has a list of functions and operations that can be executed.</li>\n",
    "<li>We can interact with the operating system by importing a os module(package).</li>\n",
    "\n",
    "\n"
   ]
  },
  {
   "cell_type": "code",
   "execution_count": 1,
   "id": "a74be193",
   "metadata": {},
   "outputs": [],
   "source": [
    "import os"
   ]
  },
  {
   "cell_type": "markdown",
   "id": "f294f909",
   "metadata": {},
   "source": [
    "#### Important OS Commands\n",
    "\n",
    "<ol>\n",
    "    <li><b>os.getcwd()</b>:</li>\n",
    "        <ol>\n",
    "            <li>This function returns the name of the current working directory.</li>\n",
    "            <li>Upon execution, this function will return a proper path of the current directory.</li>\n",
    "        </ol>\n",
    "    <li><b>os.listdir()</b>:</li>\n",
    "        <ol>\n",
    "            <li>This function is a simple command to check every file and directory present in the current directory.</li>\n",
    "            <li>The command will return a list of all the directories and files that are present under our currently logged in a             directory.</li>\n",
    "            <li>We can pass a simple path under which we intend to check the list.</li>\n",
    "        </ol>\n",
    "    <li><b>os.rename()</b>:</li> \n",
    "    <ol>\n",
    "        <li>This function is a simple tool to rename a directory name through the python shell.</li>\n",
    "        <li>We have to pass two string values as an argument, the first has to be a source name, and the second will be the new          name with which we intend to rename the directory.</li>\n",
    "    </ol>\n",
    "    <li><b>os.mkdir()</b>:</li>\n",
    "    <ol>\n",
    "        <li>This function creates a new directory when we execute the command.</li>\n",
    "        <li>We can provide the absolute path or a relative path as a string argument, which is supposed to be the name of the           new directory.</li>\n",
    "    </ol>\n",
    "    <li><b>os.rmdir()</b>:</li>\n",
    "    <ol>\n",
    "        <li>The rmdir() function is used to delete or remove a directory.</li>\n",
    "        <li>We have to pass a string value as an argument, which is to be the name of a directory to be deleted.</li>\n",
    "        <li>Upon successful execution, the function will return nothing, but it will return the error if it fails.</li>\n",
    "        <li>It will only delete the directory if and only if the directory is empty.</li>\n",
    "        <li>If the directory is not empty then it will return the error mentioning the folder is not empty.</li>\n",
    "    </ol>\n",
    "    <li><b>os.remove()</b>:</li>\n",
    "    <ol>\n",
    "        <li>This method in Python is used to remove or delete a file path.</li>\n",
    "        <li>This method can not remove or delete a directory. </li>\n",
    "        <li>If the specified path is a directory then OSError will be raised by the method. os.rmdir() can be used to remove             directory.</li>\n",
    "    </ol>\n",
    "    <li><b>os.path.exists()</b>:</li>\n",
    "    <ol>\n",
    "        <li>This method in Python is used to check whether the specified path exists or not.</li>\n",
    "        <li>This method returns a booolean value whether the path exists or not.</li>\n",
    "    </ol>\n",
    "    <li><b>os.path.relpath(path, start = os.curdir)</b>:</li>\n",
    "    <ol>\n",
    "        <li>This method in Python is used to get a relative filepath to the given path either from the current working directory         or from the given directory.</li>\n",
    "    </ol>\n",
    "    <li><b>os.path.abspath(path)</b>:</li>\n",
    "    <ol>\n",
    "        <li>This takes the relative path to a file and returns the absolute path in the string format.</li>\n",
    "    </ol>\n",
    "    <li><b>os.path.join()</b>:</li>\n",
    "    <ol>\n",
    "        <li>This method in Python join one or more path components intelligently.</li>\n",
    "        <li>This method concatenates various path components with exactly one directory separator (‘/’).</li>\n",
    "    </ol>\n",
    "</ol>"
   ]
  },
  {
   "cell_type": "markdown",
   "id": "872d5857",
   "metadata": {},
   "source": [
    "### os.getcwd()"
   ]
  },
  {
   "cell_type": "code",
   "execution_count": 2,
   "id": "84ed983b",
   "metadata": {},
   "outputs": [
    {
     "data": {
      "text/plain": [
       "'C:\\\\Users\\\\srval\\\\OneDrive\\\\Desktop\\\\Lumbini\\\\python_basics'"
      ]
     },
     "execution_count": 2,
     "metadata": {},
     "output_type": "execute_result"
    }
   ],
   "source": [
    "os.getcwd()"
   ]
  },
  {
   "cell_type": "code",
   "execution_count": 3,
   "id": "91471213",
   "metadata": {},
   "outputs": [
    {
     "name": "stdout",
     "output_type": "stream",
     "text": [
      "C:\\Users\\srval\\OneDrive\\Desktop\\Lumbini\n"
     ]
    }
   ],
   "source": [
    "cd .."
   ]
  },
  {
   "cell_type": "code",
   "execution_count": 4,
   "id": "c31f7f0d",
   "metadata": {},
   "outputs": [
    {
     "data": {
      "text/plain": [
       "'C:\\\\Users\\\\srval\\\\OneDrive\\\\Desktop\\\\Lumbini'"
      ]
     },
     "execution_count": 4,
     "metadata": {},
     "output_type": "execute_result"
    }
   ],
   "source": [
    "os.getcwd()"
   ]
  },
  {
   "cell_type": "markdown",
   "id": "b96c5577",
   "metadata": {},
   "source": [
    "#### os.listdir()"
   ]
  },
  {
   "cell_type": "code",
   "execution_count": 1,
   "id": "95068da8",
   "metadata": {},
   "outputs": [],
   "source": [
    "import os"
   ]
  },
  {
   "cell_type": "code",
   "execution_count": 2,
   "id": "53567df3",
   "metadata": {},
   "outputs": [
    {
     "data": {
      "text/plain": [
       "['.git',\n",
       " '.gitignore',\n",
       " '.ipynb_checkpoints',\n",
       " 'conda_installation_guilde.txt',\n",
       " 'Functions.ipynb',\n",
       " 'images',\n",
       " 'Python-Basics.ipynb',\n",
       " 'Python_Loops_And_Conditional_Statements.ipynb',\n",
       " 'README.md',\n",
       " 'requirements.txt',\n",
       " 'Working_With_OS_Files.ipynb']"
      ]
     },
     "execution_count": 2,
     "metadata": {},
     "output_type": "execute_result"
    }
   ],
   "source": [
    "os.listdir()"
   ]
  },
  {
   "cell_type": "code",
   "execution_count": 3,
   "id": "3c41fd2b",
   "metadata": {},
   "outputs": [
    {
     "data": {
      "text/plain": [
       "['access_specifier.png',\n",
       " 'class_syntax.png',\n",
       " 'datetime.png',\n",
       " 'for_loop_script.png',\n",
       " 'frequency_table.png',\n",
       " 'func_structure.png',\n",
       " 'hierarchical_inheritance.png',\n",
       " 'hybrid_inheritance.png',\n",
       " 'if_else_flow_diagram.png',\n",
       " 'inheritance.png',\n",
       " 'movies_rating.png',\n",
       " 'multilevel_inheritance.png',\n",
       " 'multiple_inheritance.png',\n",
       " 'single_inheritance.png',\n",
       " 'table.png',\n",
       " 'variables.png']"
      ]
     },
     "execution_count": 3,
     "metadata": {},
     "output_type": "execute_result"
    }
   ],
   "source": [
    "os.listdir('images')"
   ]
  },
  {
   "cell_type": "markdown",
   "id": "d60c3c09",
   "metadata": {},
   "source": [
    "### os.rename"
   ]
  },
  {
   "cell_type": "markdown",
   "id": "c4c859a3",
   "metadata": {},
   "source": [
    "#### Renaming a file"
   ]
  },
  {
   "cell_type": "code",
   "execution_count": 4,
   "id": "c76b8a48",
   "metadata": {},
   "outputs": [],
   "source": [
    "os.rename('requirements.txt', 'requirement.txt')"
   ]
  },
  {
   "cell_type": "code",
   "execution_count": 5,
   "id": "9bdf1e90",
   "metadata": {},
   "outputs": [],
   "source": [
    "os.rename('requirement.txt', 'requirements.txt')"
   ]
  },
  {
   "cell_type": "markdown",
   "id": "8c9fbc51",
   "metadata": {},
   "source": [
    "#### Renaming a directory"
   ]
  },
  {
   "cell_type": "code",
   "execution_count": 6,
   "id": "95175e3a",
   "metadata": {},
   "outputs": [],
   "source": [
    "os.rename('images', 'image')"
   ]
  },
  {
   "cell_type": "code",
   "execution_count": 7,
   "id": "f630505a",
   "metadata": {},
   "outputs": [],
   "source": [
    "os.rename('image', 'images')"
   ]
  },
  {
   "cell_type": "markdown",
   "id": "d225230e",
   "metadata": {},
   "source": [
    "### Making a new directory"
   ]
  },
  {
   "cell_type": "code",
   "execution_count": 9,
   "id": "3d03709a",
   "metadata": {},
   "outputs": [],
   "source": [
    "os.mkdir('C:\\\\Users\\\\srval\\\\OneDrive\\\\Desktop\\\\Lumbini\\\\python_basics\\\\absolutepath_folder')"
   ]
  },
  {
   "cell_type": "code",
   "execution_count": 10,
   "id": "013d1f33",
   "metadata": {},
   "outputs": [],
   "source": [
    "os.mkdir('relativepath_folder')"
   ]
  },
  {
   "cell_type": "markdown",
   "id": "dca89e78",
   "metadata": {},
   "source": [
    "#### Deleting a directory"
   ]
  },
  {
   "cell_type": "code",
   "execution_count": 11,
   "id": "0515e2b5",
   "metadata": {},
   "outputs": [],
   "source": [
    "os.rmdir('C:\\\\Users\\\\srval\\\\OneDrive\\\\Desktop\\\\Lumbini\\\\python_basics\\\\absolutepath_folder')"
   ]
  },
  {
   "cell_type": "code",
   "execution_count": 12,
   "id": "a6309693",
   "metadata": {},
   "outputs": [],
   "source": [
    "os.rmdir('relativepath_folder')"
   ]
  },
  {
   "cell_type": "code",
   "execution_count": 13,
   "id": "db517018",
   "metadata": {},
   "outputs": [
    {
     "ename": "OSError",
     "evalue": "[WinError 145] The directory is not empty: 'images'",
     "output_type": "error",
     "traceback": [
      "\u001b[1;31m---------------------------------------------------------------------------\u001b[0m",
      "\u001b[1;31mOSError\u001b[0m                                   Traceback (most recent call last)",
      "Cell \u001b[1;32mIn[13], line 1\u001b[0m\n\u001b[1;32m----> 1\u001b[0m \u001b[43mos\u001b[49m\u001b[38;5;241;43m.\u001b[39;49m\u001b[43mrmdir\u001b[49m\u001b[43m(\u001b[49m\u001b[38;5;124;43m'\u001b[39;49m\u001b[38;5;124;43mimages\u001b[39;49m\u001b[38;5;124;43m'\u001b[39;49m\u001b[43m)\u001b[49m\n",
      "\u001b[1;31mOSError\u001b[0m: [WinError 145] The directory is not empty: 'images'"
     ]
    }
   ],
   "source": [
    "os.rmdir('images')"
   ]
  },
  {
   "cell_type": "markdown",
   "id": "3f2f43de",
   "metadata": {},
   "source": [
    "#### os.remove()"
   ]
  },
  {
   "cell_type": "code",
   "execution_count": 15,
   "id": "444543af",
   "metadata": {},
   "outputs": [],
   "source": [
    "os.remove('images/single_inheritance.png')"
   ]
  },
  {
   "cell_type": "code",
   "execution_count": 16,
   "id": "b0b268ab",
   "metadata": {},
   "outputs": [
    {
     "ename": "OSError",
     "evalue": "[WinError 145] The directory is not empty: 'new_folder'",
     "output_type": "error",
     "traceback": [
      "\u001b[1;31m---------------------------------------------------------------------------\u001b[0m",
      "\u001b[1;31mOSError\u001b[0m                                   Traceback (most recent call last)",
      "Cell \u001b[1;32mIn[16], line 1\u001b[0m\n\u001b[1;32m----> 1\u001b[0m \u001b[43mos\u001b[49m\u001b[38;5;241;43m.\u001b[39;49m\u001b[43mrmdir\u001b[49m\u001b[43m(\u001b[49m\u001b[38;5;124;43m'\u001b[39;49m\u001b[38;5;124;43mnew_folder\u001b[39;49m\u001b[38;5;124;43m'\u001b[39;49m\u001b[43m)\u001b[49m\n",
      "\u001b[1;31mOSError\u001b[0m: [WinError 145] The directory is not empty: 'new_folder'"
     ]
    }
   ],
   "source": [
    "os.rmdir('new_folder')"
   ]
  },
  {
   "cell_type": "code",
   "execution_count": 17,
   "id": "d1d9ae89",
   "metadata": {},
   "outputs": [
    {
     "data": {
      "text/plain": [
       "['hierarchical_inheritance.png']"
      ]
     },
     "execution_count": 17,
     "metadata": {},
     "output_type": "execute_result"
    }
   ],
   "source": [
    "os.listdir('new_folder')"
   ]
  },
  {
   "cell_type": "code",
   "execution_count": 19,
   "id": "00d8e4af",
   "metadata": {},
   "outputs": [],
   "source": [
    "os.remove('new_folder/hierarchical_inheritance.png')"
   ]
  },
  {
   "cell_type": "code",
   "execution_count": 20,
   "id": "f573d8bb",
   "metadata": {},
   "outputs": [],
   "source": [
    "os.rmdir('new_folder')"
   ]
  },
  {
   "cell_type": "markdown",
   "id": "cd26e417",
   "metadata": {},
   "source": [
    "#### os.path.exists()"
   ]
  },
  {
   "cell_type": "code",
   "execution_count": 21,
   "id": "3b91744e",
   "metadata": {},
   "outputs": [
    {
     "data": {
      "text/plain": [
       "True"
      ]
     },
     "execution_count": 21,
     "metadata": {},
     "output_type": "execute_result"
    }
   ],
   "source": [
    "os.path.exists('requirements.txt')"
   ]
  },
  {
   "cell_type": "code",
   "execution_count": 23,
   "id": "f9dde935",
   "metadata": {},
   "outputs": [
    {
     "data": {
      "text/plain": [
       "False"
      ]
     },
     "execution_count": 23,
     "metadata": {},
     "output_type": "execute_result"
    }
   ],
   "source": [
    "os.path.exists('requirement.txt')"
   ]
  },
  {
   "cell_type": "code",
   "execution_count": 24,
   "id": "2d889433",
   "metadata": {},
   "outputs": [
    {
     "data": {
      "text/plain": [
       "False"
      ]
     },
     "execution_count": 24,
     "metadata": {},
     "output_type": "execute_result"
    }
   ],
   "source": [
    "os.path.exists('new_folder')"
   ]
  },
  {
   "cell_type": "code",
   "execution_count": 25,
   "id": "8f436705",
   "metadata": {},
   "outputs": [],
   "source": [
    "if os.path.exists('new_folder'):\n",
    "    pass\n",
    "else:\n",
    "    os.mkdir('new_folder')"
   ]
  },
  {
   "cell_type": "code",
   "execution_count": 26,
   "id": "8f4b69f3",
   "metadata": {},
   "outputs": [],
   "source": [
    "if os.path.exists('new_folder'):\n",
    "    os.rmdir('new_folder')\n",
    "else:\n",
    "    os.mkdir('new_folder')"
   ]
  },
  {
   "cell_type": "markdown",
   "id": "275a379c",
   "metadata": {},
   "source": [
    "#### os.path.relpath(path, start)"
   ]
  },
  {
   "cell_type": "code",
   "execution_count": 27,
   "id": "f6794d48",
   "metadata": {},
   "outputs": [],
   "source": [
    "path = 'prabhat/lumbini/dscourse/pythonbasics/noteboooks/working_with_os.ipynb'\n",
    "start_path = \"prabhat/lumbini/dscourse/pythonbasics\""
   ]
  },
  {
   "cell_type": "code",
   "execution_count": 28,
   "id": "7dfbbfc3",
   "metadata": {},
   "outputs": [
    {
     "data": {
      "text/plain": [
       "'noteboooks\\\\working_with_os.ipynb'"
      ]
     },
     "execution_count": 28,
     "metadata": {},
     "output_type": "execute_result"
    }
   ],
   "source": [
    "os.path.relpath(path, start_path)"
   ]
  },
  {
   "cell_type": "code",
   "execution_count": 29,
   "id": "06654e3d",
   "metadata": {},
   "outputs": [],
   "source": [
    "start_path = \"prabhat/lumbini/dscourse\""
   ]
  },
  {
   "cell_type": "code",
   "execution_count": 30,
   "id": "e7e861c2",
   "metadata": {},
   "outputs": [
    {
     "data": {
      "text/plain": [
       "'pythonbasics\\\\noteboooks\\\\working_with_os.ipynb'"
      ]
     },
     "execution_count": 30,
     "metadata": {},
     "output_type": "execute_result"
    }
   ],
   "source": [
    "os.path.relpath(path, start_path)"
   ]
  },
  {
   "cell_type": "code",
   "execution_count": 33,
   "id": "c47f939b",
   "metadata": {},
   "outputs": [],
   "source": [
    "start_path = \"prabhat/lumbini/dscourse/pythonbasics/notebooks\""
   ]
  },
  {
   "cell_type": "code",
   "execution_count": 34,
   "id": "e90b295f",
   "metadata": {},
   "outputs": [
    {
     "data": {
      "text/plain": [
       "'..\\\\noteboooks\\\\working_with_os.ipynb'"
      ]
     },
     "execution_count": 34,
     "metadata": {},
     "output_type": "execute_result"
    }
   ],
   "source": [
    "os.path.relpath(path, start_path)"
   ]
  },
  {
   "cell_type": "markdown",
   "id": "888d04c3",
   "metadata": {},
   "source": [
    "#### absolute path"
   ]
  },
  {
   "cell_type": "code",
   "execution_count": 35,
   "id": "061d391b",
   "metadata": {},
   "outputs": [
    {
     "data": {
      "text/plain": [
       "'C:\\\\Users\\\\srval\\\\OneDrive\\\\Desktop\\\\Lumbini\\\\python_basics\\\\requirements.txt'"
      ]
     },
     "execution_count": 35,
     "metadata": {},
     "output_type": "execute_result"
    }
   ],
   "source": [
    "os.path.abspath('requirements.txt')"
   ]
  },
  {
   "cell_type": "code",
   "execution_count": 36,
   "id": "e350dff9",
   "metadata": {},
   "outputs": [
    {
     "data": {
      "text/plain": [
       "'C:\\\\Users\\\\srval\\\\OneDrive\\\\Desktop\\\\Lumbini\\\\python_basics\\\\images\\\\access_specifier.png'"
      ]
     },
     "execution_count": 36,
     "metadata": {},
     "output_type": "execute_result"
    }
   ],
   "source": [
    "os.path.abspath('images/access_specifier.png')"
   ]
  },
  {
   "cell_type": "markdown",
   "id": "14d82bc5",
   "metadata": {},
   "source": [
    "#### os.path.join()"
   ]
  },
  {
   "cell_type": "code",
   "execution_count": 37,
   "id": "ceaa3b4a",
   "metadata": {},
   "outputs": [
    {
     "name": "stdout",
     "output_type": "stream",
     "text": [
      "abc\\def\n"
     ]
    }
   ],
   "source": [
    "path1 = \"abc\"\n",
    "path2 = \"def\"\n",
    "new_path = os.path.join(path1, path2)\n",
    "print(new_path)"
   ]
  },
  {
   "cell_type": "code",
   "execution_count": 40,
   "id": "f71b2726",
   "metadata": {},
   "outputs": [
    {
     "data": {
      "text/plain": [
       "'C:\\\\Users\\\\srval\\\\OneDrive\\\\Desktop\\\\Lumbini\\\\python_basics\\\\images\\\\access_specifier.png'"
      ]
     },
     "execution_count": 40,
     "metadata": {},
     "output_type": "execute_result"
    }
   ],
   "source": [
    "os.path.join(os.getcwd(), 'images', 'access_specifier.png')"
   ]
  },
  {
   "cell_type": "markdown",
   "id": "4127f6a6",
   "metadata": {},
   "source": [
    "#### Copying Files Using Shutil\n",
    "\n",
    "<li>shutil.copy() method in Python is used to copy the content of source file to destination file or directory.</li>\n",
    "<li>shutil.copytree() method recursively copies an entire directory tree rooted at source (src) to the destination directory.</li>\n",
    "<li>The destination directory, named by (dst) must not already exist. It will be created during copying.</li>"
   ]
  },
  {
   "cell_type": "code",
   "execution_count": null,
   "id": "588800fa",
   "metadata": {},
   "outputs": [],
   "source": [
    "shutil.copy() -> copy a file from src to dest\n",
    "shutil.copytree() -> more than one files, \n",
    "src ->\n",
    "dst ->"
   ]
  },
  {
   "cell_type": "code",
   "execution_count": 41,
   "id": "812a9dfd",
   "metadata": {},
   "outputs": [],
   "source": [
    "import shutil"
   ]
  },
  {
   "cell_type": "code",
   "execution_count": 42,
   "id": "ec6daf27",
   "metadata": {},
   "outputs": [],
   "source": [
    "os.mkdir('new_folder')"
   ]
  },
  {
   "cell_type": "code",
   "execution_count": 43,
   "id": "9b082e36",
   "metadata": {},
   "outputs": [
    {
     "data": {
      "text/plain": [
       "'new_folder/requirements.txt'"
      ]
     },
     "execution_count": 43,
     "metadata": {},
     "output_type": "execute_result"
    }
   ],
   "source": [
    "shutil.copy('requirements.txt', 'new_folder/requirements.txt')"
   ]
  },
  {
   "cell_type": "code",
   "execution_count": 44,
   "id": "b0c40690",
   "metadata": {},
   "outputs": [],
   "source": [
    "os.mkdir('new_folder2')"
   ]
  },
  {
   "cell_type": "code",
   "execution_count": 45,
   "id": "7b19df60",
   "metadata": {},
   "outputs": [
    {
     "data": {
      "text/plain": [
       "'new_folder2'"
      ]
     },
     "execution_count": 45,
     "metadata": {},
     "output_type": "execute_result"
    }
   ],
   "source": [
    "shutil.copytree('images', 'new_folder2')"
   ]
  },
  {
   "cell_type": "code",
   "execution_count": 48,
   "id": "50319dc2",
   "metadata": {},
   "outputs": [
    {
     "data": {
      "text/plain": [
       "'abc'"
      ]
     },
     "execution_count": 48,
     "metadata": {},
     "output_type": "execute_result"
    }
   ],
   "source": [
    "shutil.copytree('images', 'abc')"
   ]
  },
  {
   "cell_type": "code",
   "execution_count": 50,
   "id": "dc55d09b",
   "metadata": {},
   "outputs": [],
   "source": [
    "for file in os.listdir('abc'):\n",
    "    os.remove(os.path.join('abc', file))"
   ]
  },
  {
   "cell_type": "code",
   "execution_count": 51,
   "id": "8b862eee",
   "metadata": {},
   "outputs": [],
   "source": [
    "os.rmdir('abc')"
   ]
  },
  {
   "cell_type": "code",
   "execution_count": 52,
   "id": "4e7d69ea",
   "metadata": {},
   "outputs": [
    {
     "ename": "OSError",
     "evalue": "[WinError 145] The directory is not empty: 'new_folder'",
     "output_type": "error",
     "traceback": [
      "\u001b[1;31m---------------------------------------------------------------------------\u001b[0m",
      "\u001b[1;31mOSError\u001b[0m                                   Traceback (most recent call last)",
      "Cell \u001b[1;32mIn[52], line 1\u001b[0m\n\u001b[1;32m----> 1\u001b[0m \u001b[43mos\u001b[49m\u001b[38;5;241;43m.\u001b[39;49m\u001b[43mrmdir\u001b[49m\u001b[43m(\u001b[49m\u001b[38;5;124;43m'\u001b[39;49m\u001b[38;5;124;43mnew_folder\u001b[39;49m\u001b[38;5;124;43m'\u001b[39;49m\u001b[43m)\u001b[49m\n",
      "\u001b[1;31mOSError\u001b[0m: [WinError 145] The directory is not empty: 'new_folder'"
     ]
    }
   ],
   "source": [
    "os.rmdir('new_folder')"
   ]
  },
  {
   "cell_type": "code",
   "execution_count": 58,
   "id": "682099f4",
   "metadata": {},
   "outputs": [],
   "source": [
    "for file in os.listdir('new_folder2'):\n",
    "    os.remove(os.path.join('new_folder2', file))"
   ]
  },
  {
   "cell_type": "code",
   "execution_count": 59,
   "id": "636fb64e",
   "metadata": {},
   "outputs": [],
   "source": [
    "os.rmdir('new_folder2')"
   ]
  },
  {
   "cell_type": "markdown",
   "id": "edc81bd5",
   "metadata": {},
   "source": [
    "#### File Handling In Python\n",
    "\n",
    "<li>Python too supports file handling and allows users to handle files i.e., to read and write files, along with many other file handling options, to operate on files.</li>\n",
    "\n",
    "<li>Before performing any operation on the file like reading or writing, first, we have to open that file.</li>\n",
    "<li>For this, we can use builtin function open() but at the time of opening, we have to specify the mode, which represents the purpose of the opening file.</li>"
   ]
  },
  {
   "cell_type": "markdown",
   "id": "155eb3ab",
   "metadata": {},
   "source": [
    "#### Syntax For Opening A File\n",
    "\n",
    "<code>\n",
    "    f = open(filename, mode)\n",
    "</code>"
   ]
  },
  {
   "cell_type": "markdown",
   "id": "c0247d33",
   "metadata": {},
   "source": [
    "#### File Handling Modes In Python\n",
    "\n",
    "**Python support the following mode while handling files.**\n",
    "<ol>\n",
    "<li>r: open an existing file for a read operation.</li>\n",
    "<li>w: open an existing file for a write operation. If the file already contains some data then it will be overridden but if the file is not present then it creates the file as well.</li>\n",
    "<li>a:  open an existing file for append operation. It won’t override existing data.</li>\n",
    "<li>r+:  To read and write data into the file. The previous data in the file will be overridden.</li>\n",
    "<li>w+: To write and read data. It will override existing data.</li>\n",
    "<li>a+: To append and read data from the file. It won’t override existing data.</li>\n",
    "</ol>"
   ]
  },
  {
   "cell_type": "markdown",
   "id": "26af5261",
   "metadata": {},
   "source": [
    "#### Reading a file ('r' mode)"
   ]
  },
  {
   "cell_type": "code",
   "execution_count": 62,
   "id": "34f8c511",
   "metadata": {},
   "outputs": [
    {
     "name": "stdout",
     "output_type": "stream",
     "text": [
      "ipykernel\n",
      "jupyterlab\n",
      "notebook\n"
     ]
    }
   ],
   "source": [
    "file = open('requirements.txt', 'r')\n",
    "file_read = file.read()\n",
    "print(file_read)\n",
    "file.close()"
   ]
  },
  {
   "cell_type": "code",
   "execution_count": 66,
   "id": "83905e86",
   "metadata": {},
   "outputs": [
    {
     "ename": "UnsupportedOperation",
     "evalue": "not writable",
     "output_type": "error",
     "traceback": [
      "\u001b[1;31m---------------------------------------------------------------------------\u001b[0m",
      "\u001b[1;31mUnsupportedOperation\u001b[0m                      Traceback (most recent call last)",
      "Cell \u001b[1;32mIn[66], line 2\u001b[0m\n\u001b[0;32m      1\u001b[0m file \u001b[38;5;241m=\u001b[39m \u001b[38;5;28mopen\u001b[39m(\u001b[38;5;124m'\u001b[39m\u001b[38;5;124mrequirements.txt\u001b[39m\u001b[38;5;124m'\u001b[39m, \u001b[38;5;124m'\u001b[39m\u001b[38;5;124mr\u001b[39m\u001b[38;5;124m'\u001b[39m)\n\u001b[1;32m----> 2\u001b[0m file_read \u001b[38;5;241m=\u001b[39m \u001b[43mfile\u001b[49m\u001b[38;5;241;43m.\u001b[39;49m\u001b[43mwrite\u001b[49m\u001b[43m(\u001b[49m\u001b[38;5;124;43m'\u001b[39;49m\u001b[38;5;124;43msklearn\u001b[39;49m\u001b[38;5;124;43m'\u001b[39;49m\u001b[43m)\u001b[49m\n\u001b[0;32m      3\u001b[0m file\u001b[38;5;241m.\u001b[39mclose()\n",
      "\u001b[1;31mUnsupportedOperation\u001b[0m: not writable"
     ]
    }
   ],
   "source": [
    "file = open('requirements.txt', 'r')\n",
    "file_read = file.write('sklearn')\n",
    "file.close()"
   ]
  },
  {
   "cell_type": "markdown",
   "id": "6b17c370",
   "metadata": {},
   "source": [
    "#### Writing a file ('w' mode)"
   ]
  },
  {
   "cell_type": "code",
   "execution_count": 63,
   "id": "cb61c393",
   "metadata": {},
   "outputs": [],
   "source": [
    "file = open('new_file.txt', 'w')\n",
    "file.write(\"We are learning Data Science Course\")\n",
    "file.close()"
   ]
  },
  {
   "cell_type": "code",
   "execution_count": 64,
   "id": "572f92f9",
   "metadata": {},
   "outputs": [],
   "source": [
    "file = open('file.txt', 'w')\n",
    "file.write(\"We are learning File Handling Operations\")\n",
    "file.close()"
   ]
  },
  {
   "cell_type": "markdown",
   "id": "cdc7d276",
   "metadata": {},
   "source": [
    "#### Append Mode"
   ]
  },
  {
   "cell_type": "code",
   "execution_count": 65,
   "id": "551e9d7c",
   "metadata": {},
   "outputs": [],
   "source": [
    "file = open('new_file.txt', 'a')\n",
    "file.write('\\n')\n",
    "file.write(\"Today is the 16th day of the course.\")\n",
    "file.close()"
   ]
  },
  {
   "cell_type": "markdown",
   "id": "48751523",
   "metadata": {},
   "source": [
    "#### Mode ('r+')"
   ]
  },
  {
   "cell_type": "code",
   "execution_count": 67,
   "id": "ed4ced66",
   "metadata": {},
   "outputs": [
    {
     "name": "stdout",
     "output_type": "stream",
     "text": [
      "ipykernel\n",
      "jupyterlab\n",
      "notebook\n"
     ]
    }
   ],
   "source": [
    "file = open('requirement.txt', 'r+')\n",
    "file_read = file.read()\n",
    "print(file_read)\n",
    "file.close()"
   ]
  },
  {
   "cell_type": "code",
   "execution_count": 71,
   "id": "3db5364c",
   "metadata": {},
   "outputs": [],
   "source": [
    "file = open('requirement.txt', 'r+')\n",
    "file.write('sklearnfdjkfasdjfkdjfsd')\n",
    "file.write('\\n')\n",
    "file.write('dfijdjkjdfk')\n",
    "file.close()"
   ]
  },
  {
   "cell_type": "markdown",
   "id": "63329cd0",
   "metadata": {},
   "source": [
    "#### Mode('w+')"
   ]
  },
  {
   "cell_type": "code",
   "execution_count": 76,
   "id": "f6cc3e12",
   "metadata": {},
   "outputs": [],
   "source": [
    "file = open('requirement.txt', 'w+')\n",
    "file.write('sklearn')\n",
    "file.write('\\n')\n",
    "file.write('tensorflow')\n",
    "file.close()"
   ]
  },
  {
   "cell_type": "code",
   "execution_count": 73,
   "id": "0c33b540",
   "metadata": {},
   "outputs": [
    {
     "name": "stdout",
     "output_type": "stream",
     "text": [
      "\n"
     ]
    }
   ],
   "source": [
    "file = open('requirement.txt', 'w+')\n",
    "file_read = file.read()\n",
    "print(file_read)\n",
    "file.close()"
   ]
  },
  {
   "cell_type": "markdown",
   "id": "248eba13",
   "metadata": {},
   "source": [
    "#### Mode(a+)"
   ]
  },
  {
   "cell_type": "code",
   "execution_count": 77,
   "id": "25029281",
   "metadata": {},
   "outputs": [],
   "source": [
    "file = open('requirement.txt', 'a+')\n",
    "file.write('\\n')\n",
    "file.write('pandas')\n",
    "file.write('\\n')\n",
    "file.write('numpy')\n",
    "file.close()"
   ]
  },
  {
   "cell_type": "code",
   "execution_count": 80,
   "id": "8e2cc1b5",
   "metadata": {},
   "outputs": [
    {
     "name": "stdout",
     "output_type": "stream",
     "text": [
      "\n"
     ]
    }
   ],
   "source": [
    "file = open('requirement.txt', 'a+')\n",
    "file_read = file.read()\n",
    "print(file_read)\n",
    "file.close()"
   ]
  },
  {
   "cell_type": "code",
   "execution_count": 79,
   "id": "35357861",
   "metadata": {},
   "outputs": [
    {
     "name": "stdout",
     "output_type": "stream",
     "text": [
      "sklearn\n",
      "tensorflow\n",
      "pandas\n",
      "numpy\n"
     ]
    }
   ],
   "source": [
    "file = open('requirement.txt', 'r')\n",
    "file_read = file.read()\n",
    "print(file_read)\n",
    "file.close()"
   ]
  },
  {
   "cell_type": "markdown",
   "id": "f8aecca5",
   "metadata": {},
   "source": [
    "#### Question: Write a function that reads 'file.txt' and another function that calculates the number of true count and false count from the given data."
   ]
  },
  {
   "cell_type": "code",
   "execution_count": null,
   "id": "53184297",
   "metadata": {},
   "outputs": [],
   "source": []
  },
  {
   "cell_type": "markdown",
   "id": "b312a9b4",
   "metadata": {},
   "source": [
    "#### Opening A CSV File\n",
    "\n",
    "<li>Now let's learn how to read in a large dataset as a list of lists.</li>\n",
    "<li>We have already worked with some of the custom made datasets. But real world datasets is large and they often need to read from files.</li>\n",
    "<li>CSV (Comma Separated Values) are one of the file formats where datasets can be stored. They have '.csv' file extension.</li>\n",
    "<li>We can read any files using open() function.</li>"
   ]
  },
  {
   "cell_type": "code",
   "execution_count": null,
   "id": "175b3575",
   "metadata": {},
   "outputs": [],
   "source": []
  },
  {
   "cell_type": "code",
   "execution_count": null,
   "id": "6394063b",
   "metadata": {},
   "outputs": [],
   "source": []
  },
  {
   "cell_type": "markdown",
   "id": "37313716",
   "metadata": {},
   "source": [
    "#### & Reading A CSV File"
   ]
  },
  {
   "cell_type": "markdown",
   "id": "92b0d814",
   "metadata": {},
   "source": [
    "<li>Once we've opened the file, we read it in using a function called reader().</li>\n",
    "<li>We import the reader() function from the csv module using the code <b>from csv import reader</b> (a module is a collection of functions and variables).</li>"
   ]
  },
  {
   "cell_type": "code",
   "execution_count": null,
   "id": "d827b277",
   "metadata": {},
   "outputs": [],
   "source": []
  },
  {
   "cell_type": "code",
   "execution_count": null,
   "id": "8ab26e72",
   "metadata": {},
   "outputs": [],
   "source": []
  },
  {
   "cell_type": "markdown",
   "id": "03916a75",
   "metadata": {},
   "source": [
    "#### Converting the dataset into a list of list"
   ]
  },
  {
   "cell_type": "markdown",
   "id": "9c7d829f",
   "metadata": {},
   "source": [
    "<li>Now that we've read the file, we can transform it into a list of lists using the list() function.</li>"
   ]
  },
  {
   "cell_type": "code",
   "execution_count": null,
   "id": "03fde030",
   "metadata": {},
   "outputs": [],
   "source": []
  },
  {
   "cell_type": "code",
   "execution_count": null,
   "id": "ecd491f6",
   "metadata": {},
   "outputs": [],
   "source": []
  },
  {
   "cell_type": "code",
   "execution_count": null,
   "id": "f41a41db",
   "metadata": {},
   "outputs": [],
   "source": []
  }
 ],
 "metadata": {
  "kernelspec": {
   "display_name": "Python 3 (ipykernel)",
   "language": "python",
   "name": "python3"
  },
  "language_info": {
   "codemirror_mode": {
    "name": "ipython",
    "version": 3
   },
   "file_extension": ".py",
   "mimetype": "text/x-python",
   "name": "python",
   "nbconvert_exporter": "python",
   "pygments_lexer": "ipython3",
   "version": "3.9.0"
  }
 },
 "nbformat": 4,
 "nbformat_minor": 5
}
